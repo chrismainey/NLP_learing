{
 "cells": [
  {
   "cell_type": "code",
   "execution_count": 4,
   "metadata": {
    "scrolled": true
   },
   "outputs": [
    {
     "name": "stdout",
     "output_type": "stream",
     "text": [
      "Collecting tensorflow_datasets\n",
      "  Downloading tensorflow_datasets-2.0.0-py3-none-any.whl (3.1 MB)\n",
      "Requirement already satisfied: absl-py in c:\\programdata\\anaconda3\\envs\\general-env\\lib\\site-packages (from tensorflow_datasets) (0.9.0)\n",
      "Collecting tqdm\n",
      "  Downloading tqdm-4.42.0-py2.py3-none-any.whl (59 kB)\n",
      "Collecting tensorflow-metadata\n",
      "  Downloading tensorflow_metadata-0.21.1-py2.py3-none-any.whl (31 kB)\n",
      "Collecting dill\n",
      "  Downloading dill-0.3.1.1.tar.gz (151 kB)\n",
      "Processing c:\\users\\christopher\\appdata\\local\\pip\\cache\\wheels\\d7\\de\\2e\\efa132238792efb6459a96e85916ef8597fcb3d2ae51590dfd\\wrapt-1.11.2-cp36-none-any.whl\n",
      "Collecting future\n",
      "  Downloading future-0.18.2.tar.gz (829 kB)\n",
      "Requirement already satisfied: six in c:\\programdata\\anaconda3\\envs\\general-env\\lib\\site-packages (from tensorflow_datasets) (1.14.0)\n",
      "Requirement already satisfied: protobuf>=3.6.1 in c:\\programdata\\anaconda3\\envs\\general-env\\lib\\site-packages (from tensorflow_datasets) (3.11.2)\n",
      "Requirement already satisfied: numpy in c:\\programdata\\anaconda3\\envs\\general-env\\lib\\site-packages (from tensorflow_datasets) (1.17.5)\n",
      "Collecting requests>=2.19.0\n",
      "  Downloading requests-2.22.0-py2.py3-none-any.whl (57 kB)\n",
      "Collecting promise\n",
      "  Downloading promise-2.3.tar.gz (19 kB)\n",
      "Requirement already satisfied: attrs>=18.1.0 in c:\\programdata\\anaconda3\\envs\\general-env\\lib\\site-packages (from tensorflow_datasets) (19.3.0)\n",
      "Requirement already satisfied: termcolor in c:\\programdata\\anaconda3\\envs\\general-env\\lib\\site-packages (from tensorflow_datasets) (1.1.0)\n",
      "Collecting googleapis-common-protos\n",
      "  Downloading googleapis-common-protos-1.51.0.tar.gz (35 kB)\n",
      "Requirement already satisfied: setuptools in c:\\programdata\\anaconda3\\envs\\general-env\\lib\\site-packages (from protobuf>=3.6.1->tensorflow_datasets) (45.1.0.post20200119)\n",
      "Collecting chardet<3.1.0,>=3.0.2\n",
      "  Downloading chardet-3.0.4-py2.py3-none-any.whl (133 kB)\n",
      "Collecting idna<2.9,>=2.5\n",
      "  Downloading idna-2.8-py2.py3-none-any.whl (58 kB)\n",
      "Requirement already satisfied: certifi>=2017.4.17 in c:\\programdata\\anaconda3\\envs\\general-env\\lib\\site-packages (from requests>=2.19.0->tensorflow_datasets) (2019.11.28)\n",
      "Collecting urllib3!=1.25.0,!=1.25.1,<1.26,>=1.21.1\n",
      "  Downloading urllib3-1.25.8-py2.py3-none-any.whl (125 kB)\n",
      "Building wheels for collected packages: dill, future, promise, googleapis-common-protos\n",
      "  Building wheel for dill (setup.py): started\n",
      "  Building wheel for dill (setup.py): finished with status 'done'\n",
      "  Created wheel for dill: filename=dill-0.3.1.1-py3-none-any.whl size=78597 sha256=88a749f1ed8db37e8be4a1bbe611c4084a91654ec79c4bb68fceb5117ad27f44\n",
      "  Stored in directory: c:\\users\\christopher\\appdata\\local\\pip\\cache\\wheels\\09\\84\\74\\d2b4feb9ac9488bc83c475cb2cbe8e8b7d9cea8320d32f3787\n",
      "  Building wheel for future (setup.py): started\n",
      "  Building wheel for future (setup.py): finished with status 'done'\n",
      "  Created wheel for future: filename=future-0.18.2-py3-none-any.whl size=491062 sha256=501a433426bfe9ade73e63b0632fae24a14b02d831be06c5812d5c69f49b687c\n",
      "  Stored in directory: c:\\users\\christopher\\appdata\\local\\pip\\cache\\wheels\\6e\\9c\\ed\\4499c9865ac1002697793e0ae05ba6be33553d098f3347fb94\n",
      "  Building wheel for promise (setup.py): started\n",
      "  Building wheel for promise (setup.py): finished with status 'done'\n",
      "  Created wheel for promise: filename=promise-2.3-py3-none-any.whl size=21499 sha256=99219073265eca14836caeadd84d2374a6a4506eb460e7da1b93a830d72507ac\n",
      "  Stored in directory: c:\\users\\christopher\\appdata\\local\\pip\\cache\\wheels\\59\\9a\\1d\\3f1afbbb5122d0410547bf9eb50955f4a7a98e53a6d8b99bd1\n",
      "  Building wheel for googleapis-common-protos (setup.py): started\n",
      "  Building wheel for googleapis-common-protos (setup.py): finished with status 'done'\n",
      "  Created wheel for googleapis-common-protos: filename=googleapis_common_protos-1.51.0-py3-none-any.whl size=77602 sha256=86b56602988361761411fdcb0a274ebb57703e25eb0413868c7346645689c7a3\n",
      "  Stored in directory: c:\\users\\christopher\\appdata\\local\\pip\\cache\\wheels\\35\\8d\\af\\a922cb18800b31fadac3523cadf6c1efdf233b788fe7a4da70\n",
      "Successfully built dill future promise googleapis-common-protos\n",
      "Installing collected packages: tqdm, googleapis-common-protos, tensorflow-metadata, dill, wrapt, future, chardet, idna, urllib3, requests, promise, tensorflow-datasets\n",
      "Successfully installed chardet-3.0.4 dill-0.3.1.1 future-0.18.2 googleapis-common-protos-1.51.0 idna-2.8 promise-2.3 requests-2.22.0 tensorflow-datasets-2.0.0 tensorflow-metadata-0.21.1 tqdm-4.42.0 urllib3-1.25.8 wrapt-1.11.2\n",
      "Note: you may need to restart the kernel to use updated packages.\n"
     ]
    }
   ],
   "source": []
  },
  {
   "cell_type": "code",
   "execution_count": 1,
   "metadata": {},
   "outputs": [],
   "source": [
    "import io\n",
    "import matplotlib.pyplot as plt\n",
    "import tensorflow as tf\n",
    "from tensorflow import keras\n",
    "from tensorflow.keras import layers\n",
    "import tensorflow_datasets as tfds"
   ]
  },
  {
   "cell_type": "code",
   "execution_count": null,
   "metadata": {},
   "outputs": [],
   "source": []
  }
 ],
 "metadata": {
  "kernelspec": {
   "display_name": "Python 3",
   "language": "python",
   "name": "python3"
  },
  "language_info": {
   "codemirror_mode": {
    "name": "ipython",
    "version": 3
   },
   "file_extension": ".py",
   "mimetype": "text/x-python",
   "name": "python",
   "nbconvert_exporter": "python",
   "pygments_lexer": "ipython3",
   "version": "3.6.10"
  }
 },
 "nbformat": 4,
 "nbformat_minor": 4
}
